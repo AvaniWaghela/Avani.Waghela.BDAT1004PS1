{
 "cells": [
  {
   "cell_type": "markdown",
   "id": "489508fb",
   "metadata": {},
   "source": [
    "# Problem Set 1"
   ]
  },
  {
   "cell_type": "markdown",
   "id": "77ed52e2",
   "metadata": {},
   "source": [
    "## Question 1 C#"
   ]
  },
  {
   "cell_type": "markdown",
   "id": "45cd299e",
   "metadata": {},
   "source": [
    "### What data type is each of the following?"
   ]
  },
  {
   "cell_type": "code",
   "execution_count": null,
   "id": "d875402a",
   "metadata": {},
   "outputs": [],
   "source": [
    "5                   Integer\n",
    "5.0                 Float\n",
    "5 > 1               Boolean\n",
    "'5'                 Character\n",
    "5 * 2               Integer\n",
    "'5' * 2             String\n",
    "'5' + '2'           String concatenation\n",
    "5 / 2               Float\n",
    "5 % 2               Integer\n",
    "{5, 2, 1}           Array\n",
    "5 == 3              Boolean\n",
    "Pi (the number)     Float/double"
   ]
  },
  {
   "cell_type": "markdown",
   "id": "d45ed54a",
   "metadata": {},
   "source": [
    "## Question 2 C#"
   ]
  },
  {
   "cell_type": "markdown",
   "id": "c98c03db",
   "metadata": {},
   "source": [
    "### Write (and evaluate) C# expressions that answer these questions:"
   ]
  },
  {
   "cell_type": "markdown",
   "id": "611dbe24",
   "metadata": {},
   "source": [
    "### a. How many letters are there in 'Supercalifragilisticexpialidocious'?"
   ]
  },
  {
   "cell_type": "code",
   "execution_count": 65,
   "id": "bdc1923b",
   "metadata": {},
   "outputs": [],
   "source": [
    "using System; \n",
    "\n",
    "  class CalculateLength //created a class with name CalculateLength\n",
    "  {\n",
    "    static void Main(string[] args)\n",
    "    {\n",
    "      string txt = \"Supercalifragilisticexpialidocious\";\n",
    "      Console.WriteLine(\"The total number of letters in given string is: \" + txt.Length); \n",
    "      //Length method gives the letter in input string\n",
    "    }\n",
    "  }"
   ]
  },
  {
   "cell_type": "code",
   "execution_count": 66,
   "id": "de74d1d2",
   "metadata": {},
   "outputs": [
    {
     "name": "stdout",
     "output_type": "stream",
     "text": [
      "The total number of letters in given string is: 34\r\n"
     ]
    }
   ],
   "source": [
    "      string txt = \"Supercalifragilisticexpialidocious\";\n",
    "      Console.WriteLine(\"The total number of letters in given string is: \" + txt.Length);"
   ]
  },
  {
   "cell_type": "markdown",
   "id": "1c5b1491",
   "metadata": {},
   "source": [
    "### b. Does 'Supercalifragilisticexpialidocious' contain 'ice' as a substring? "
   ]
  },
  {
   "cell_type": "code",
   "execution_count": 33,
   "id": "edebb2b1",
   "metadata": {},
   "outputs": [],
   "source": [
    "//Reference tutorialkart\n",
    "using System;\n",
    "  \n",
    "class StringExist \n",
    "{\n",
    "    static void Main(string[] args) \n",
    "    {\n",
    "        String str = \"Supercalifragilisticexpialidocious\";\n",
    "        String value = \"ice\";\n",
    "        Boolean result = str.Contains(value);    //Contain method returns a value indicating specified sub string\n",
    "        Console.WriteLine($\"Does {str} contain {value} as a substring?\\n{result}\"); //print the output result \n",
    "    }\n",
    "}"
   ]
  },
  {
   "cell_type": "code",
   "execution_count": 64,
   "id": "dfa1e5c5",
   "metadata": {},
   "outputs": [
    {
     "name": "stdout",
     "output_type": "stream",
     "text": [
      "Does Supercalifragilisticexpialidocious contain ice as a substring?\n",
      "True\r\n"
     ]
    }
   ],
   "source": [
    "        String str = \"Supercalifragilisticexpialidocious\";\n",
    "        String value = \"ice\";\n",
    "        Boolean result = str.Contains(value);\n",
    "        Console.WriteLine($\"Does {str} contain {value} as a substring?\\n{result}\");    "
   ]
  },
  {
   "cell_type": "markdown",
   "id": "2f168223",
   "metadata": {},
   "source": [
    "### c. Which of the following words is the longest: Supercalifragilisticexpialidocious, Honorificabilitudinitatibus, or Bababadalgharaghtakamminarronnkonn? "
   ]
  },
  {
   "cell_type": "code",
   "execution_count": 63,
   "id": "5e7571bc",
   "metadata": {},
   "outputs": [],
   "source": [
    "//Reference w3resource\n",
    "using System;\n",
    "public class LongestWord\n",
    "{\n",
    "    public static void Main()\n",
    "    {\n",
    "        string line = \"Supercalifragilisticexpialidocious, Honorificabilitudinitatibus, Bababadalgharaghtakamminarronnkonn\";\n",
    "        string[] words = line.Split(new[] { \", \" }, StringSplitOptions.None); \n",
    "        //Split method separate each word after \",\" from the given string\n",
    "        string word = \"\";\n",
    "        int ctr = 0;\n",
    "        foreach (String s in words) //for loop for each separated word\n",
    "        {\n",
    "            if (s.Length > ctr)\n",
    "            {\n",
    "                word = s;\n",
    "                ctr = s.Length;\n",
    "            }\n",
    "        }\n",
    "\n",
    "        Console.WriteLine($\"The longest word among the given list is {word}\"); //print the longest word\n",
    "\n",
    "    }\n",
    "}\n"
   ]
  },
  {
   "cell_type": "code",
   "execution_count": 40,
   "id": "50474058",
   "metadata": {},
   "outputs": [
    {
     "name": "stdout",
     "output_type": "stream",
     "text": [
      "The longest word among the given list is Supercalifragilisticexpialidocious\r\n"
     ]
    }
   ],
   "source": [
    "        string line = \"Supercalifragilisticexpialidocious, Honorificabilitudinitatibus, Bababadalgharaghtakamminarronnkonn\";\n",
    "        string[] words = line.Split(new[] { \", \" }, StringSplitOptions.None);\n",
    "        string word = \"\";\n",
    "        int ctr = 0;\n",
    "        foreach (String s in words)\n",
    "        {\n",
    "            if (s.Length > ctr)\n",
    "            {\n",
    "                word = s;\n",
    "                ctr = s.Length;\n",
    "            }\n",
    "        }\n",
    "\n",
    "        Console.WriteLine($\"The longest word among the given list is {word}\");"
   ]
  },
  {
   "cell_type": "markdown",
   "id": "88db7066",
   "metadata": {},
   "source": [
    "### d. Which composer comes first in the dictionary: 'Berlioz', 'Borodin', 'Brian', 'Bartok', 'Bellini', 'Buxtehude', 'Bernstein'. Which one comes last?"
   ]
  },
  {
   "cell_type": "code",
   "execution_count": 42,
   "id": "90b9c25e",
   "metadata": {},
   "outputs": [],
   "source": [
    "using System;//Visual Studio syntax\n",
    "using System.Collections.Generic;\n",
    " \n",
    "public class MySortedDictionary\n",
    "{\n",
    "     public static void Main(string[] args) \n",
    "     {\n",
    "           //Sorted Dictionary sort using key in default ascending order\n",
    "           SortedDictionary<string, string> names = new SortedDictionary<string, string>(); \n",
    "           names.Add(\"Berlioz\", \"\"); //add key value pair in dictionary\n",
    "           names.Add(\"Borodin\", \"\");\n",
    "           names.Add(\"Brian\", \"\");\n",
    "           names.Add(\"Bartok\", \"\"); \n",
    "           names.Add(\"Bellini\", \"\");\n",
    "           names.Add(\"Buxtehude\", \"\"); \n",
    "           names.Add(\"Bernstein\", \"\"); \n",
    "           foreach (KeyValuePair<string, string> kv in names)\n",
    "           {\n",
    "                 Console.WriteLine(kv.Key + \" \" + kv.Value);\n",
    "           }\n",
    "     }\n",
    "}"
   ]
  },
  {
   "cell_type": "code",
   "execution_count": 62,
   "id": "8be101c7",
   "metadata": {},
   "outputs": [
    {
     "name": "stdout",
     "output_type": "stream",
     "text": [
      "Bartok \n",
      "Bellini \n",
      "Berlioz \n",
      "Bernstein \n",
      "Borodin \n",
      "Brian \n",
      "Buxtehude \n"
     ]
    }
   ],
   "source": [
    "           SortedDictionary<string, string> names = new SortedDictionary<string, string>(); \n",
    "           names.Add(\"Berlioz\", \"\"); \n",
    "           names.Add(\"Borodin\", \"\");\n",
    "           names.Add(\"Brian\", \"\");\n",
    "           names.Add(\"Bartok\", \"\"); \n",
    "           names.Add(\"Bellini\", \"\");\n",
    "           names.Add(\"Buxtehude\", \"\"); \n",
    "           names.Add(\"Bernstein\", \"\"); \n",
    "           foreach (KeyValuePair<string, string> kv in names)\n",
    "           {\n",
    "                 Console.WriteLine(kv.Key + \" \" + kv.Value);\n",
    "           }"
   ]
  },
  {
   "cell_type": "markdown",
   "id": "c67260e5",
   "metadata": {},
   "source": [
    "## Question 3 C#"
   ]
  },
  {
   "cell_type": "markdown",
   "id": "415122d0",
   "metadata": {},
   "source": [
    "### Implement function triangleArea(a,b,c) that takes as input the lengths of the 3 sides of a triangle and returns the area of the triangle. By Heron's formula, the area of a triangle with side lengths a, b, and c is s(s - a)(s -b)(s -c), where s = (a+b+c)/2."
   ]
  },
  {
   "cell_type": "code",
   "execution_count": 54,
   "id": "f0aa3d8d",
   "metadata": {},
   "outputs": [],
   "source": [
    "//Reference dotnettutorials\n",
    "using System;\n",
    "\n",
    "public class AreaOfTriangle\n",
    "{\n",
    "    public static void Main()\n",
    "    {\n",
    "        Console.Write(\"Enter the length of side 1: \"); //get length from the user\n",
    "        double side1 = Convert.ToDouble(Console.ReadLine()); //store value got from user in a variable \n",
    "        Console.Write(\"\\nEnter the length of side 2: \");\n",
    "        double side2 = Convert.ToDouble(Console.ReadLine());\n",
    "        Console.Write(\"\\nEnter the length of side 3: \");\n",
    "        double side3 = Convert.ToDouble(Console.ReadLine());\n",
    "\n",
    "        double semiperimeter = (side1 + side2 + side3) / 2;\n",
    "        double Area = Math.Sqrt(semiperimeter * (semiperimeter - side1) * (semiperimeter - side2) * (semiperimeter - side3));\n",
    "        Console.Write($\"\\n\\nArea of a Triangle = {Area}\");\n",
    "    }\n",
    "}"
   ]
  },
  {
   "cell_type": "code",
   "execution_count": 2,
   "id": "42130bef",
   "metadata": {},
   "outputs": [
    {
     "name": "stdout",
     "output_type": "stream",
     "text": [
      "\n",
      "\n",
      "Area of a Triangle = 1.7320508075688772"
     ]
    }
   ],
   "source": [
    "        //Console.Write(\"Enter the length of side 1: \");\n",
    "        double side1 = 2;  //since we cannot get user input in C#\n",
    "        //Console.Write(\"\\nEnter the length of side 2: \");\n",
    "        double side2 = 2;\n",
    "        //Console.Write(\"\\nEnter the length of side 3: \");\n",
    "        double side3 = 2;\n",
    "\n",
    "        double semiperimeter = (side1 + side2 + side3) / 2;\n",
    "        double Area = Math.Sqrt(semiperimeter * (semiperimeter - side1) * (semiperimeter - side2) * (semiperimeter - side3));\n",
    "        Console.Write($\"\\n\\nArea of a Triangle = {Area}\");"
   ]
  },
  {
   "cell_type": "markdown",
   "id": "e43b2728",
   "metadata": {},
   "source": [
    "## Question 4 C#"
   ]
  },
  {
   "cell_type": "markdown",
   "id": "f5d69650",
   "metadata": {},
   "source": [
    "### Write a program in C# Sharp to separate odd and even integers in separate arrays. "
   ]
  },
  {
   "cell_type": "code",
   "execution_count": 58,
   "id": "a8dae22f",
   "metadata": {},
   "outputs": [],
   "source": [
    "//reference tutorialspoint\n",
    "using System;\n",
    "    public class EvenOdd\n",
    "    {\n",
    "        public static void Main(string[] args)\n",
    "        {\n",
    "            int[] arr1 = new int[5]; //create an array\n",
    "            arr1[0] = 25; //add element to array\n",
    "            arr1[1] = 47;\n",
    "            arr1[2] = 42;\n",
    "            arr1[3] = 56;\n",
    "            arr1[4] = 32;\n",
    "            int[] arr2 = new int[5];\n",
    "            int[] arr3 = new int[5];\n",
    "            int i, j = 0, k = 0;\n",
    "            for (i = 0; i < 5; i++) //for loop to check if divisible by 2 then even else odd\n",
    "            {\n",
    "                if (arr1[i] % 2 == 0)\n",
    "                {\n",
    "                    arr2[j] = arr1[i];\n",
    "                    j++;\n",
    "                }\n",
    "                else\n",
    "                {\n",
    "                    arr3[k] = arr1[i];\n",
    "                    k++;\n",
    "                }\n",
    "            }\n",
    "            Console.WriteLine(\"Even elements are...\");\n",
    "            for (i = 0; i < j; i++) //for loop to print even numbers\n",
    "            {\n",
    "                Console.WriteLine(arr2[i]);\n",
    "            }\n",
    "            Console.WriteLine(\"Odd elements are...\");\n",
    "            for (i = 0; i < k; i++) //for loop to print odd numbers\n",
    "            {\n",
    "                Console.WriteLine(arr3[i]);\n",
    "            }\n",
    "        }\n",
    "    }"
   ]
  },
  {
   "cell_type": "code",
   "execution_count": 60,
   "id": "2313a79e",
   "metadata": {},
   "outputs": [
    {
     "name": "stdout",
     "output_type": "stream",
     "text": [
      "Even elements are:\n",
      "42\n",
      "56\n",
      "32\n",
      "Odd elements are:\n",
      "25\n",
      "47\n"
     ]
    }
   ],
   "source": [
    "            int[] arr1 = new int[5];\n",
    "            arr1[0] = 25;\n",
    "            arr1[1] = 47;\n",
    "            arr1[2] = 42;\n",
    "            arr1[3] = 56;\n",
    "            arr1[4] = 32;\n",
    "            int[] arr2 = new int[5];\n",
    "            int[] arr3 = new int[5];\n",
    "            int i, j = 0, k = 0;\n",
    "            for (i = 0; i < 5; i++)\n",
    "            {\n",
    "                if (arr1[i] % 2 == 0)\n",
    "                {\n",
    "                    arr2[j] = arr1[i];\n",
    "                    j++;\n",
    "                }\n",
    "                else\n",
    "                {\n",
    "                    arr3[k] = arr1[i];\n",
    "                    k++;\n",
    "                }\n",
    "            }\n",
    "            Console.WriteLine(\"Even elements are:\");\n",
    "            for (i = 0; i < j; i++)\n",
    "            {\n",
    "                Console.WriteLine(arr2[i]);\n",
    "            }\n",
    "            Console.WriteLine(\"Odd elements are:\");\n",
    "            for (i = 0; i < k; i++)\n",
    "            {\n",
    "                Console.WriteLine(arr3[i]);\n",
    "            }"
   ]
  },
  {
   "cell_type": "markdown",
   "id": "22e732bf",
   "metadata": {},
   "source": [
    "## Question 5 C#"
   ]
  },
  {
   "cell_type": "markdown",
   "id": "5a9fc29b",
   "metadata": {},
   "source": [
    "### a. Write a function inside(x,y,x1,y1,x2,y2) that returns True or False depending on whether the point (x,y) lies in the rectangle with lower left corner (x1,y1) and upper right corner (x2,y2)."
   ]
  },
  {
   "cell_type": "markdown",
   "id": "03f4491f",
   "metadata": {},
   "source": [
    "### b. Use function inside() from part a. to write an expression that tests whether the point (1,1) lies in both of the following rectangles: one with lower left corner (0.3, 0.5) and upper right corner (1.1, 0.7) and the other with lower left corner (0.5, 0.2) and upper right corner (1.1, 2)."
   ]
  },
  {
   "cell_type": "code",
   "execution_count": 80,
   "id": "323bb58a",
   "metadata": {},
   "outputs": [],
   "source": [
    "using System;\n",
    "using System.Collections.Generic;\n",
    "using System.Linq;\n",
    "using System.Text;\n",
    "\n",
    "class InsideRectangle \n",
    "    {\n",
    "        static bool inside(double x, double y, double x1, double y1, double x2, double y2)\n",
    "        {\n",
    "            //if statement\n",
    "            if (x > x1 && x < x2 &&\n",
    "            y > y1 && y < y2)\n",
    "                return true;\n",
    "            return false;\n",
    "        }\n",
    "        static void Main(string[] args)\n",
    "        {\n",
    "            Console.Write(\"Enter x co-ordinate: \"); //get co-ordinate values\n",
    "            double x = Convert.ToDouble(Console.ReadLine());\n",
    "            Console.Write(\"Enter x1 co-ordinate: \");\n",
    "            double x1 = Convert.ToDouble(Console.ReadLine());\n",
    "            Console.Write(\"Enter x2 co-ordinate: \");\n",
    "            double x2 = Convert.ToDouble(Console.ReadLine());\n",
    "            Console.Write(\"Enter y co-ordinate: \");\n",
    "            double y = Convert.ToDouble(Console.ReadLine());\n",
    "            Console.Write(\"Enter y1 co-ordinate: \");\n",
    "            double y1 = Convert.ToDouble(Console.ReadLine());\n",
    "            Console.Write(\"Enter y2 co-ordinate: \");\n",
    "            double y2 = Convert.ToDouble(Console.ReadLine());\n",
    "            //if else statement for weather it is rectangle with lower and upper corner\n",
    "            if (inside(x, y, x1, y1, x2, y2))\n",
    "                Console.Write(\"true\");\n",
    "            else\n",
    "                Console.Write(\"false\");\n",
    "        }\n",
    "    }"
   ]
  },
  {
   "cell_type": "code",
   "execution_count": 4,
   "id": "e4dc5abb",
   "metadata": {},
   "outputs": [],
   "source": [
    "        static bool inside(double x, double y, double x1, double y1, double x2, double y2)\n",
    "        {\n",
    "            //if statement\n",
    "            if (x > x1 && x < x2 &&\n",
    "            y > y1 && y < y2)\n",
    "                return true;\n",
    "            return false;\n",
    "        }\n",
    "        \n",
    "        static void Main(string[] args)\n",
    "        {\n",
    "            //Console.Write(\"Enter x co-ordinate: \"); //get co-ordinate values\n",
    "            double x = 1;\n",
    "            //Console.Write(\"Enter x1 co-ordinate: \");\n",
    "            double x1 = 0;\n",
    "            //Console.Write(\"Enter x2 co-ordinate: \");\n",
    "            double x2 = 2;\n",
    "            //Console.Write(\"Enter y co-ordinate: \");\n",
    "            double y = 1;\n",
    "            //Console.Write(\"Enter y1 co-ordinate: \");\n",
    "            double y1 = 0;\n",
    "            //Console.Write(\"Enter y2 co-ordinate: \");\n",
    "            double y2 = 3;\n",
    "            //if else statement for weather it is rectangle with lower and upper corner\n",
    "            if (inside(x, y, x1, y1, x2, y2))\n",
    "                Console.Write(\"true\");\n",
    "            else\n",
    "                Console.Write(\"false\");\n",
    "        }"
   ]
  }
 ],
 "metadata": {
  "kernelspec": {
   "display_name": ".NET (C#)",
   "language": "C#",
   "name": ".net-csharp"
  },
  "language_info": {
   "file_extension": ".cs",
   "mimetype": "text/x-csharp",
   "name": "C#",
   "pygments_lexer": "csharp",
   "version": "8.0"
  }
 },
 "nbformat": 4,
 "nbformat_minor": 5
}
