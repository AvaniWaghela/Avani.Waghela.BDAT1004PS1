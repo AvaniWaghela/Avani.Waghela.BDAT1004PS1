{
 "cells": [
  {
   "cell_type": "markdown",
   "id": "97f6ab4e",
   "metadata": {},
   "source": [
    "## Question 6 Python"
   ]
  },
  {
   "cell_type": "markdown",
   "id": "aa151f39",
   "metadata": {},
   "source": [
    "### Write a function pig() that takes a word (i.e., a string) as input and returns its pig-Latin form. Your function should still work if the input word contains upper case characters. Your output should always be lower case however."
   ]
  },
  {
   "cell_type": "code",
   "execution_count": 6,
   "id": "84c14031",
   "metadata": {},
   "outputs": [
    {
     "name": "stdout",
     "output_type": "stream",
     "text": [
      "Enter the word:- enter\n",
      "enterway\n"
     ]
    }
   ],
   "source": [
    "\n",
    "def pig(word):  #creating a pig function\n",
    "\n",
    " if character[0] in \"AEIOUaeiou\":  #check if the first letter is vowel\n",
    "    return character + 'way'\n",
    "    \n",
    " else:\n",
    "    return character[1:] + character[0] + 'ay'  #if first letter is a consonant\n",
    "\n",
    "character = input(\"Enter the word:- \")  #get user input\n",
    "print(pig(character).lower())\n"
   ]
  },
  {
   "cell_type": "markdown",
   "id": "339d2ced",
   "metadata": {},
   "source": [
    "## Question 7 Python"
   ]
  },
  {
   "cell_type": "markdown",
   "id": "161d9a21",
   "metadata": {},
   "source": [
    "### File bloodtype1.txt records blood-types of patients (A, B, AB, O or OO) at a clinic. Write a function bldcount() that reads the file with name name and reports (i.e., prints) how many patients there are in each bloodtype."
   ]
  },
  {
   "cell_type": "code",
   "execution_count": null,
   "id": "a316931a",
   "metadata": {},
   "outputs": [],
   "source": [
    "def bldcount(b):\n",
    "    #open the text file\n",
    "    file = open(b)  \n",
    "    \n",
    "    #read the file content\n",
    "    name = file.read()\n",
    "    #close file\n",
    "    file.close() \n",
    "    #split the file data\n",
    "    name = name.split()  \n",
    "    bloodgroups = ['A','B','AB','O','OO']\n",
    "    for i in bloodgroups:\n",
    "        if name.count(i) == 0:  \n",
    "            #if count is 0 then no patient of the type\n",
    "            print(\"There are no patients of blood type\",i)\n",
    "        elif name.count(i) == 1:  \n",
    "            #if count is 1 then single patient of that type\n",
    "            print(\"There is one patient of blood type\",i)\n",
    "        else:\n",
    "            print(\"There are\",name.count(i),\"patients of blood type\",i)\n",
    "\n",
    "#call function \n",
    "bldcount(\"bloodtype1.txt\")         "
   ]
  },
  {
   "cell_type": "markdown",
   "id": "065643b3",
   "metadata": {},
   "source": [
    "## Question 8 Python"
   ]
  },
  {
   "cell_type": "markdown",
   "id": "bedcbdab",
   "metadata": {},
   "source": [
    "### Write a function curconv() that takes as input: 1. a currency represented using a string (e.g., 'JPY' for the Japanese Yen or 'EUR' for the Euro) 2. an amount and then converts and returns the amount in US dollars."
   ]
  },
  {
   "cell_type": "code",
   "execution_count": null,
   "id": "eece91a1",
   "metadata": {},
   "outputs": [],
   "source": [
    "def curconv(name,amount):  #creating curconv function\n",
    "    with open(\"C:/Users/avani/currencies.txt\")as x:  #open the file currencies \n",
    "        for num,curr in enumerate(x,1):  #convert the amount using for loop\n",
    "            if name in curr:\n",
    "                data=list(name.split())\n",
    "                print(double(amount) * double(data[1]))\n",
    "\n",
    "name = input(\"Name of Currency:-\")  #Name of Currency \n",
    "amount = input(\"Amount to Convert:-\")  #get the amount you want to convert from user\n",
    "curconv(name,amount)"
   ]
  },
  {
   "cell_type": "markdown",
   "id": "ac3b1f88",
   "metadata": {},
   "source": [
    "## Question 9 Python"
   ]
  },
  {
   "cell_type": "markdown",
   "id": "5a7364d3",
   "metadata": {},
   "source": [
    "### Each of the following will cause an exception (an error). Identify what type of exception each will cause."
   ]
  },
  {
   "cell_type": "markdown",
   "id": "279f3b9d",
   "metadata": {},
   "source": [
    "Trying to add incompatible variables, as in adding 6 + ‘a’.\n",
    "--TypeError\n",
    "\n",
    "Referring to the 12th item of a list that has only 10 items.\n",
    "--IndexError\n",
    "\n",
    "Using a value that is out of range for a function’s input, such as calling math.sqrt(-1.0).\n",
    "--ValueError\n",
    "\n",
    "Using an undeclared variable, such as print(x) when x has not been defined.\n",
    "--NameError\n",
    "\n",
    "Trying to open a file that does not exist, such as mistyping the file name or looking in the wrong directory. \n",
    "--FileNotFoundError"
   ]
  },
  {
   "cell_type": "markdown",
   "id": "c5114c18",
   "metadata": {},
   "source": [
    "## Question 10 Python"
   ]
  },
  {
   "cell_type": "markdown",
   "id": "928c17a5",
   "metadata": {},
   "source": [
    "### Encryption is the process of hiding the meaning of a text by substituting letters in the message with other letters, according to some system. If the process is successful, no one but the intended recipient can understand the encrypted message. Cryptanalysisrefers to attempts to undo the encryption, even if some details of the encryption are unknown (for example, if an encrypted message has been intercepted). The first step of cryptanalysis is often to build up a table of letter frequencies in the encrypted text. Assume that the string letters is already defined as 'abcdefghijklmnopqrstuvwxyz'. Write a function called frequencies()that takes a string as its only parameter, and returns a list of integers, showing the number of times each character appears in the text. Your function may ignore any characters that are not in letters."
   ]
  },
  {
   "cell_type": "code",
   "execution_count": null,
   "id": "66b9c261",
   "metadata": {},
   "outputs": [],
   "source": [
    "#get a string fro user\n",
    "user_string = input('Enter the String: ')  #get the string from the user\n",
    "\n",
    "def frequencies(user_string):  #creating a frequencies function\n",
    "  #string split  \n",
    "    string1= user_string.split()  #splitting the string\n",
    "    x = {}\n",
    "    \n",
    "    for i in string1:  #for loop to calculate number of characters\n",
    "       x[ord(i) - ord('a')] +=1\n",
    "    print(x)\n",
    "    \n",
    "frequencies(user_string)"
   ]
  }
 ],
 "metadata": {
  "kernelspec": {
   "display_name": "Python 3 (ipykernel)",
   "language": "python",
   "name": "python3"
  },
  "language_info": {
   "codemirror_mode": {
    "name": "ipython",
    "version": 3
   },
   "file_extension": ".py",
   "mimetype": "text/x-python",
   "name": "python",
   "nbconvert_exporter": "python",
   "pygments_lexer": "ipython3",
   "version": "3.9.7"
  }
 },
 "nbformat": 4,
 "nbformat_minor": 5
}
